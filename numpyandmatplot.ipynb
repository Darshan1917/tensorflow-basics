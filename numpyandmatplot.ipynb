{
 "cells": [
  {
   "cell_type": "markdown",
   "metadata": {},
   "source": [
    "# numpy and matplotlib"
   ]
  },
  {
   "cell_type": "code",
   "execution_count": 1,
   "metadata": {},
   "outputs": [],
   "source": [
    "import numpy as np\n",
    "import matplotlib as mlt\n",
    "import pandas as pd\n",
    "import pandas_datareader"
   ]
  },
  {
   "cell_type": "markdown",
   "metadata": {},
   "source": [
    "Lets start with numpy and then use other library"
   ]
  },
  {
   "cell_type": "code",
   "execution_count": 2,
   "metadata": {},
   "outputs": [],
   "source": [
    "list = (1,2,3,4,5,7,6)\n"
   ]
  },
  {
   "cell_type": "markdown",
   "metadata": {},
   "source": [
    "Here we are converting a list into an array by using the numpy. The type is an ndim-array\n",
    "\n",
    "We can directly assing it to an array "
   ]
  },
  {
   "cell_type": "code",
   "execution_count": 3,
   "metadata": {},
   "outputs": [
    {
     "data": {
      "text/plain": [
       "array([1, 2, 3, 4, 5, 7, 6])"
      ]
     },
     "execution_count": 3,
     "metadata": {},
     "output_type": "execute_result"
    }
   ],
   "source": [
    "np.array(list)"
   ]
  },
  {
   "cell_type": "code",
   "execution_count": 4,
   "metadata": {},
   "outputs": [
    {
     "data": {
      "text/plain": [
       "numpy.ndarray"
      ]
     },
     "execution_count": 4,
     "metadata": {},
     "output_type": "execute_result"
    }
   ],
   "source": [
    "type(np.array(list))"
   ]
  },
  {
   "cell_type": "code",
   "execution_count": 5,
   "metadata": {},
   "outputs": [],
   "source": [
    "arr =  np.array([0,1,2,3,4,5,6,7,8,9])"
   ]
  },
  {
   "cell_type": "code",
   "execution_count": 6,
   "metadata": {},
   "outputs": [
    {
     "name": "stdout",
     "output_type": "stream",
     "text": [
      "[0 1 2 3 4 5 6 7 8 9]\n"
     ]
    }
   ],
   "source": [
    "print(arr)"
   ]
  },
  {
   "cell_type": "markdown",
   "metadata": {},
   "source": [
    "Arange or np.arange is used to create an array with start value ,end value , step size and dtype\n",
    "\n",
    "below is the example for the same "
   ]
  },
  {
   "cell_type": "code",
   "execution_count": 7,
   "metadata": {},
   "outputs": [
    {
     "name": "stdout",
     "output_type": "stream",
     "text": [
      "[ 5  6  7  8  9 10 11 12 13 14]\n",
      "[  5.   7.   9.  11.  13.]\n"
     ]
    }
   ],
   "source": [
    "a = np.arange(5,15)\n",
    "b = np.arange(5,15,2,dtype=float)\n",
    "print (a)\n",
    "print(b)"
   ]
  },
  {
   "cell_type": "markdown",
   "metadata": {},
   "source": [
    "In Numpy we have quickways to create zeroes , diagonal 1 , ones other kind of in bulit function \n"
   ]
  },
  {
   "cell_type": "markdown",
   "metadata": {},
   "source": [
    "np.zeros has values ( shape , dtype= , order=) all values are 0\n",
    "\n",
    "\n",
    "np.ones has values ( shape , dtype= , order=) all values are  1"
   ]
  },
  {
   "cell_type": "code",
   "execution_count": 8,
   "metadata": {},
   "outputs": [
    {
     "name": "stdout",
     "output_type": "stream",
     "text": [
      "[ 0.  0.  0.  0.  0.]\n",
      "The default is float \n",
      " [[ 0.  0.  0.  0.  0.  0.]\n",
      " [ 0.  0.  0.  0.  0.  0.]\n",
      " [ 0.  0.  0.  0.  0.  0.]\n",
      " [ 0.  0.  0.  0.  0.  0.]\n",
      " [ 0.  0.  0.  0.  0.  0.]]\n",
      "Changed the dtype to int \n",
      " [[0 0 0 0 0 0]\n",
      " [0 0 0 0 0 0]\n",
      " [0 0 0 0 0 0]\n",
      " [0 0 0 0 0 0]\n",
      " [0 0 0 0 0 0]]\n"
     ]
    }
   ],
   "source": [
    "a = np.zeros(5)\n",
    "b= np.zeros([5,6])\n",
    "c= np.zeros([5,6],dtype=np.int64)\n",
    "print(a)\n",
    "print(\"The default is float \\n\" , b)\n",
    "print(\"Changed the dtype to int \\n\",c)"
   ]
  },
  {
   "cell_type": "raw",
   "metadata": {},
   "source": [
    "## Some Dtype in Numpy\n",
    "\n",
    "np.int64 Signed 64-bit integer types\n",
    "np.float32 Standard double-precision floating point\n",
    "np.complex Complex numbers represented by 128 floats\n",
    "np.bool Boolean type storing TRUE and FALSE values\n",
    "np.object Python object type\n",
    "np.string_ Fixed-length string type\n",
    "np.unicode_ Fixed-length unicode type"
   ]
  },
  {
   "cell_type": "code",
   "execution_count": 9,
   "metadata": {},
   "outputs": [
    {
     "name": "stdout",
     "output_type": "stream",
     "text": [
      "[ 1.  1.]\n",
      "The default is float \n",
      " [[ 1.  1.  1.  1.  1.]\n",
      " [ 1.  1.  1.  1.  1.]\n",
      " [ 1.  1.  1.  1.  1.]]\n",
      "Changed the dtype to int \n",
      " [[1 1 1 1]\n",
      " [1 1 1 1]]\n"
     ]
    }
   ],
   "source": [
    "a = np.ones(2)\n",
    "b = np.ones((3,5))\n",
    "c = np.ones((2,4),dtype=np.int16)\n",
    "print(a)\n",
    "print(\"The default is float \\n\" , b)\n",
    "print(\"Changed the dtype to int \\n\",c)"
   ]
  },
  {
   "cell_type": "markdown",
   "metadata": {},
   "source": [
    "We have another function known as eye which takes one parameter for diagonal element"
   ]
  },
  {
   "cell_type": "code",
   "execution_count": 61,
   "metadata": {},
   "outputs": [
    {
     "name": "stdout",
     "output_type": "stream",
     "text": [
      "[[ 1.  0.]\n",
      " [ 0.  1.]]\n",
      "The default is float \n",
      " [[ 1.  0.  0.  0.  0.]\n",
      " [ 0.  1.  0.  0.  0.]\n",
      " [ 0.  0.  1.  0.  0.]\n",
      " [ 0.  0.  0.  1.  0.]\n",
      " [ 0.  0.  0.  0.  1.]]\n",
      "Changed the dtype to int \n",
      " [[1 0]\n",
      " [0 1]]\n"
     ]
    },
    {
     "data": {
      "text/plain": [
       "(array([0, 1], dtype=int64), array([0, 1], dtype=int64))"
      ]
     },
     "execution_count": 61,
     "metadata": {},
     "output_type": "execute_result"
    }
   ],
   "source": [
    "a = np.eye(2)\n",
    "b = np.eye((5))\n",
    "c = np.eye((2),dtype=np.int32)\n",
    "print(a)\n",
    "print(\"The default is float \\n\" , b)\n",
    "print(\"Changed the dtype to int \\n\",c)\n",
    "c.nonzero()"
   ]
  },
  {
   "cell_type": "markdown",
   "metadata": {},
   "source": [
    "Another function is np.linspace: Gives Lineraly/Evenly spaced values \n",
    "\n",
    "\n",
    "np.linspace(start, stop, num=50, endpoint=True, retstep=False, dtype=None)"
   ]
  },
  {
   "cell_type": "code",
   "execution_count": 11,
   "metadata": {},
   "outputs": [
    {
     "data": {
      "text/plain": [
       "array([ 2.        ,  2.01010101,  2.02020202,  2.03030303,  2.04040404,\n",
       "        2.05050505,  2.06060606,  2.07070707,  2.08080808,  2.09090909,\n",
       "        2.1010101 ,  2.11111111,  2.12121212,  2.13131313,  2.14141414,\n",
       "        2.15151515,  2.16161616,  2.17171717,  2.18181818,  2.19191919,\n",
       "        2.2020202 ,  2.21212121,  2.22222222,  2.23232323,  2.24242424,\n",
       "        2.25252525,  2.26262626,  2.27272727,  2.28282828,  2.29292929,\n",
       "        2.3030303 ,  2.31313131,  2.32323232,  2.33333333,  2.34343434,\n",
       "        2.35353535,  2.36363636,  2.37373737,  2.38383838,  2.39393939,\n",
       "        2.4040404 ,  2.41414141,  2.42424242,  2.43434343,  2.44444444,\n",
       "        2.45454545,  2.46464646,  2.47474747,  2.48484848,  2.49494949,\n",
       "        2.50505051,  2.51515152,  2.52525253,  2.53535354,  2.54545455,\n",
       "        2.55555556,  2.56565657,  2.57575758,  2.58585859,  2.5959596 ,\n",
       "        2.60606061,  2.61616162,  2.62626263,  2.63636364,  2.64646465,\n",
       "        2.65656566,  2.66666667,  2.67676768,  2.68686869,  2.6969697 ,\n",
       "        2.70707071,  2.71717172,  2.72727273,  2.73737374,  2.74747475,\n",
       "        2.75757576,  2.76767677,  2.77777778,  2.78787879,  2.7979798 ,\n",
       "        2.80808081,  2.81818182,  2.82828283,  2.83838384,  2.84848485,\n",
       "        2.85858586,  2.86868687,  2.87878788,  2.88888889,  2.8989899 ,\n",
       "        2.90909091,  2.91919192,  2.92929293,  2.93939394,  2.94949495,\n",
       "        2.95959596,  2.96969697,  2.97979798,  2.98989899,  3.        ])"
      ]
     },
     "execution_count": 11,
     "metadata": {},
     "output_type": "execute_result"
    }
   ],
   "source": [
    "np.linspace(2.0, 3.0, num=100)"
   ]
  },
  {
   "cell_type": "code",
   "execution_count": 12,
   "metadata": {},
   "outputs": [
    {
     "data": {
      "text/plain": [
       "array([ 2. ,  2.2,  2.4,  2.6,  2.8])"
      ]
     },
     "execution_count": 12,
     "metadata": {},
     "output_type": "execute_result"
    }
   ],
   "source": [
    "np.linspace(2.0, 3.0, num=5, endpoint=False) # doesnt involve the 3"
   ]
  },
  {
   "cell_type": "code",
   "execution_count": 13,
   "metadata": {},
   "outputs": [
    {
     "data": {
      "text/plain": [
       "(array([ 2.        ,  2.02040816,  2.04081633,  2.06122449,  2.08163265,\n",
       "         2.10204082,  2.12244898,  2.14285714,  2.16326531,  2.18367347,\n",
       "         2.20408163,  2.2244898 ,  2.24489796,  2.26530612,  2.28571429,\n",
       "         2.30612245,  2.32653061,  2.34693878,  2.36734694,  2.3877551 ,\n",
       "         2.40816327,  2.42857143,  2.44897959,  2.46938776,  2.48979592,\n",
       "         2.51020408,  2.53061224,  2.55102041,  2.57142857,  2.59183673,\n",
       "         2.6122449 ,  2.63265306,  2.65306122,  2.67346939,  2.69387755,\n",
       "         2.71428571,  2.73469388,  2.75510204,  2.7755102 ,  2.79591837,\n",
       "         2.81632653,  2.83673469,  2.85714286,  2.87755102,  2.89795918,\n",
       "         2.91836735,  2.93877551,  2.95918367,  2.97959184,  3.        ]),\n",
       " 0.020408163265306121)"
      ]
     },
     "execution_count": 13,
     "metadata": {},
     "output_type": "execute_result"
    }
   ],
   "source": [
    "np.linspace(2.0, 3.0, num=50, retstep=True) # retstep returns the stepsize of the sampling if false doesnt return"
   ]
  },
  {
   "cell_type": "code",
   "execution_count": 14,
   "metadata": {},
   "outputs": [
    {
     "name": "stdout",
     "output_type": "stream",
     "text": [
      "Enter a number4\n",
      "1\n"
     ]
    }
   ],
   "source": [
    "a = [1,5,4,2]\n",
    "var = int (input(\"Enter a number\"))\n",
    "print(a[var%len(a)])"
   ]
  },
  {
   "cell_type": "code",
   "execution_count": 15,
   "metadata": {},
   "outputs": [
    {
     "name": "stdout",
     "output_type": "stream",
     "text": [
      "2 6\n",
      "7 1\n"
     ]
    }
   ],
   "source": [
    "a = [1,2,6,7]\n",
    "if(len(a)>0):\n",
    "    counter = len(a)//2\n",
    "    #print (counter)\n",
    "    if(counter == 2):\n",
    "        for x in range(len(a)):\n",
    "            res1 = a[x%len(a)] + a[(x+1)%len(a)]\n",
    "            res2 = a[(x+2)%len(a)] + a[(x+3)%len(a)]\n",
    "            if (res1==res2):\n",
    "                 print(a[x%len(a)] , a[(x+1)%len(a)]) "
   ]
  },
  {
   "cell_type": "markdown",
   "metadata": {},
   "source": [
    "Most times during using the Neural Network we need to initlize the array randomly and make use of random function "
   ]
  },
  {
   "cell_type": "code",
   "execution_count": 20,
   "metadata": {},
   "outputs": [
    {
     "data": {
      "text/plain": [
       "array([ 0.56652764,  0.35158779])"
      ]
     },
     "execution_count": 20,
     "metadata": {},
     "output_type": "execute_result"
    }
   ],
   "source": [
    "np.random.random(2)"
   ]
  },
  {
   "cell_type": "code",
   "execution_count": 17,
   "metadata": {},
   "outputs": [
    {
     "data": {
      "text/plain": [
       "array([5, 3, 1])"
      ]
     },
     "execution_count": 17,
     "metadata": {},
     "output_type": "execute_result"
    }
   ],
   "source": [
    "np.random.randint(6 , size=3)"
   ]
  },
  {
   "cell_type": "code",
   "execution_count": 56,
   "metadata": {},
   "outputs": [
    {
     "name": "stdout",
     "output_type": "stream",
     "text": [
      "[[3 2]\n",
      " [2 1]]\n"
     ]
    }
   ],
   "source": [
    "array = np.random.randint(4 ,size=(2,2))\n",
    "print(array)"
   ]
  },
  {
   "cell_type": "code",
   "execution_count": 57,
   "metadata": {},
   "outputs": [
    {
     "data": {
      "text/plain": [
       "array([3, 2, 2, 1])"
      ]
     },
     "execution_count": 57,
     "metadata": {},
     "output_type": "execute_result"
    }
   ],
   "source": [
    "array.ravel()   #flatens the array or matrix "
   ]
  },
  {
   "cell_type": "code",
   "execution_count": 59,
   "metadata": {},
   "outputs": [
    {
     "data": {
      "text/plain": [
       "(array([0, 0, 1, 1], dtype=int64), array([0, 1, 0, 1], dtype=int64))"
      ]
     },
     "execution_count": 59,
     "metadata": {},
     "output_type": "execute_result"
    }
   ],
   "source": [
    "array.nonzero()"
   ]
  },
  {
   "cell_type": "code",
   "execution_count": 27,
   "metadata": {},
   "outputs": [
    {
     "data": {
      "text/plain": [
       "array([-0.03927103,  0.22592904, -0.0060875 ,  0.02117457,  0.21165341,\n",
       "        0.04482198,  0.19256405,  0.15449264])"
      ]
     },
     "execution_count": 27,
     "metadata": {},
     "output_type": "execute_result"
    }
   ],
   "source": [
    "a,b = 0,0.1 \n",
    "np.random.normal(a,b,(8)) # This is about std deviation and all press shift+tab and read again"
   ]
  },
  {
   "cell_type": "markdown",
   "metadata": {},
   "source": [
    "### Some array operations of numpy"
   ]
  },
  {
   "cell_type": "raw",
   "metadata": {},
   "source": [
    "Aggregate Functions:\n",
    "\n",
    "a.sum() --------------  Array-wise sum\n",
    "a.min() --------------Array-wise minimum value\n",
    "b.max(axis=0) -------------- Maximum value of an array row\n",
    "b.cumsum(axis=1) -------------- Cumulative sum of the elements\n",
    "a.mean() -------------- Mean\n",
    "b.median() --------------Median\n",
    "a.corrcoef() -------------- Correlation coefficient\n",
    "np.std(b) -------------- Standard deviation\n",
    "\n"
   ]
  },
  {
   "cell_type": "code",
   "execution_count": 35,
   "metadata": {},
   "outputs": [],
   "source": [
    "np.random.seed(101)\n",
    "\n",
    "arr = np.random.randint(0,100,10)"
   ]
  },
  {
   "cell_type": "code",
   "execution_count": 36,
   "metadata": {},
   "outputs": [
    {
     "data": {
      "text/plain": [
       "array([95, 11, 81, 70, 63, 87, 75,  9, 77, 40])"
      ]
     },
     "execution_count": 36,
     "metadata": {},
     "output_type": "execute_result"
    }
   ],
   "source": [
    "arr"
   ]
  },
  {
   "cell_type": "code",
   "execution_count": 38,
   "metadata": {},
   "outputs": [
    {
     "data": {
      "text/plain": [
       "95"
      ]
     },
     "execution_count": 38,
     "metadata": {},
     "output_type": "execute_result"
    }
   ],
   "source": [
    "arr.max()"
   ]
  },
  {
   "cell_type": "code",
   "execution_count": 39,
   "metadata": {},
   "outputs": [
    {
     "data": {
      "text/plain": [
       "9"
      ]
     },
     "execution_count": 39,
     "metadata": {},
     "output_type": "execute_result"
    }
   ],
   "source": [
    "arr.min()"
   ]
  },
  {
   "cell_type": "code",
   "execution_count": 40,
   "metadata": {},
   "outputs": [
    {
     "data": {
      "text/plain": [
       "7"
      ]
     },
     "execution_count": 40,
     "metadata": {},
     "output_type": "execute_result"
    }
   ],
   "source": [
    "arr.argmin()  #index of the lowest value is given "
   ]
  },
  {
   "cell_type": "code",
   "execution_count": 41,
   "metadata": {},
   "outputs": [
    {
     "data": {
      "text/plain": [
       "0"
      ]
     },
     "execution_count": 41,
     "metadata": {},
     "output_type": "execute_result"
    }
   ],
   "source": [
    "arr.argmax() # max value index "
   ]
  },
  {
   "cell_type": "code",
   "execution_count": 42,
   "metadata": {},
   "outputs": [],
   "source": [
    "ary = arr.copy()"
   ]
  },
  {
   "cell_type": "code",
   "execution_count": 43,
   "metadata": {},
   "outputs": [
    {
     "data": {
      "text/plain": [
       "array([95, 11, 81, 70, 63, 87, 75,  9, 77, 40])"
      ]
     },
     "execution_count": 43,
     "metadata": {},
     "output_type": "execute_result"
    }
   ],
   "source": [
    "ary"
   ]
  },
  {
   "cell_type": "code",
   "execution_count": 44,
   "metadata": {},
   "outputs": [
    {
     "data": {
      "text/plain": [
       "array([95, 11, 81, 70, 63, 87, 75,  9, 77, 40])"
      ]
     },
     "execution_count": 44,
     "metadata": {},
     "output_type": "execute_result"
    }
   ],
   "source": [
    "ary.ravel()"
   ]
  },
  {
   "cell_type": "code",
   "execution_count": 55,
   "metadata": {},
   "outputs": [
    {
     "data": {
      "text/plain": [
       "(array([0, 1, 2, 3, 4, 5, 6, 7, 8, 9], dtype=int64),)"
      ]
     },
     "execution_count": 55,
     "metadata": {},
     "output_type": "execute_result"
    }
   ],
   "source": [
    "ary.nonzero()"
   ]
  },
  {
   "cell_type": "code",
   "execution_count": 62,
   "metadata": {},
   "outputs": [
    {
     "data": {
      "text/plain": [
       "60.799999999999997"
      ]
     },
     "execution_count": 62,
     "metadata": {},
     "output_type": "execute_result"
    }
   ],
   "source": [
    "arr.mean()"
   ]
  },
  {
   "cell_type": "code",
   "execution_count": 64,
   "metadata": {},
   "outputs": [
    {
     "data": {
      "text/plain": [
       "array([[95, 11],\n",
       "       [81, 70],\n",
       "       [63, 87],\n",
       "       [75,  9],\n",
       "       [77, 40]])"
      ]
     },
     "execution_count": 64,
     "metadata": {},
     "output_type": "execute_result"
    }
   ],
   "source": [
    "arr.reshape(5,2)"
   ]
  },
  {
   "cell_type": "code",
   "execution_count": 72,
   "metadata": {},
   "outputs": [
    {
     "name": "stdout",
     "output_type": "stream",
     "text": [
      "[[95 11 81 70 63]\n",
      " [87 75  9 77 40]]\n"
     ]
    }
   ],
   "source": [
    "new_ary = ary.reshape(2,5)\n",
    "print(new_ary)"
   ]
  },
  {
   "cell_type": "code",
   "execution_count": 74,
   "metadata": {},
   "outputs": [
    {
     "data": {
      "text/plain": [
       "2"
      ]
     },
     "execution_count": 74,
     "metadata": {},
     "output_type": "execute_result"
    }
   ],
   "source": [
    "new_ary.shape[0]  # shape[0] brings out the number of rows and shape[1] -- column number is returned "
   ]
  },
  {
   "cell_type": "code",
   "execution_count": 75,
   "metadata": {},
   "outputs": [
    {
     "data": {
      "text/plain": [
       "5"
      ]
     },
     "execution_count": 75,
     "metadata": {},
     "output_type": "execute_result"
    }
   ],
   "source": [
    "new_ary.shape[1]"
   ]
  },
  {
   "cell_type": "markdown",
   "metadata": {},
   "source": [
    "Arithmatic operations and checking the dot product and matmul operation"
   ]
  },
  {
   "cell_type": "code",
   "execution_count": 83,
   "metadata": {},
   "outputs": [
    {
     "name": "stdout",
     "output_type": "stream",
     "text": [
      "[[-2 -3]\n",
      " [-2  9]\n",
      " [ 5 -2]]\n",
      "[[ 7  2]\n",
      " [-1  6]\n",
      " [ 3  1]]\n"
     ]
    }
   ],
   "source": [
    "###### Arthimetic\n",
    "A =  np.random.randint(-5,10 ,size=(3,2))\n",
    "B = np.random.randint(-5,10 ,size=(3,2))\n",
    "print(A)\n",
    "print (B)"
   ]
  },
  {
   "cell_type": "code",
   "execution_count": 85,
   "metadata": {},
   "outputs": [
    {
     "name": "stdout",
     "output_type": "stream",
     "text": [
      "[[ 5 -1]\n",
      " [-3 15]\n",
      " [ 8 -1]]\n"
     ]
    },
    {
     "data": {
      "text/plain": [
       "array([[ 5, -1],\n",
       "       [-3, 15],\n",
       "       [ 8, -1]])"
      ]
     },
     "execution_count": 85,
     "metadata": {},
     "output_type": "execute_result"
    }
   ],
   "source": [
    "#### ADDITION\n",
    "result = A+B\n",
    "print (result)\n",
    "np.add(A,B)"
   ]
  },
  {
   "cell_type": "code",
   "execution_count": 86,
   "metadata": {},
   "outputs": [
    {
     "name": "stdout",
     "output_type": "stream",
     "text": [
      "[[-9 -5]\n",
      " [-1  3]\n",
      " [ 2 -3]]\n"
     ]
    },
    {
     "data": {
      "text/plain": [
       "array([[-9, -5],\n",
       "       [-1,  3],\n",
       "       [ 2, -3]])"
      ]
     },
     "execution_count": 86,
     "metadata": {},
     "output_type": "execute_result"
    }
   ],
   "source": [
    "#### Sub \n",
    "result = A-B\n",
    "print (result)\n",
    "np.subtract(A,B)"
   ]
  },
  {
   "cell_type": "code",
   "execution_count": 91,
   "metadata": {},
   "outputs": [
    {
     "name": "stdout",
     "output_type": "stream",
     "text": [
      "[[-14  -6]\n",
      " [  2  54]\n",
      " [ 15  -2]]\n",
      "[[-20 -16  -9]\n",
      " [  4  56   3]\n",
      " [ 31 -17  13]]\n",
      "[[-20 -16  -9]\n",
      " [  4  56   3]\n",
      " [ 31 -17  13]]\n",
      "[[-14  -6]\n",
      " [  2  54]\n",
      " [ 15  -2]]\n"
     ]
    }
   ],
   "source": [
    "#### Multiplication\n",
    "result = A*B\n",
    "print (result)\n",
    "res0 = np.multiply(A,B)\n",
    "res1 = np.matmul(A, np.transpose(B))\n",
    "res2 = np.dot(A,np.transpose(B))\n",
    "print(res1)\n",
    "print(res2)\n",
    "print(res0)"
   ]
  },
  {
   "cell_type": "code",
   "execution_count": 97,
   "metadata": {},
   "outputs": [
    {
     "name": "stdout",
     "output_type": "stream",
     "text": [
      "[[-0.28571429 -1.5       ]\n",
      " [ 2.          1.5       ]\n",
      " [ 1.66666667 -2.        ]]\n",
      "[[-1 -2]\n",
      " [ 2  1]\n",
      " [ 1 -2]]\n"
     ]
    },
    {
     "data": {
      "text/plain": [
       "(array([[-1, -2],\n",
       "        [ 2,  1],\n",
       "        [ 1, -2]], dtype=int32), array([[5, 1],\n",
       "        [0, 3],\n",
       "        [2, 0]], dtype=int32))"
      ]
     },
     "execution_count": 97,
     "metadata": {},
     "output_type": "execute_result"
    }
   ],
   "source": [
    "#### div \n",
    "result = A/B\n",
    "print (result)\n",
    "np.divide(A,B)\n",
    "\n",
    "\n",
    "\n",
    "#### div2\n",
    "result = A//B\n",
    "print (result)\n",
    "np.divmod(A,B)"
   ]
  },
  {
   "cell_type": "code",
   "execution_count": 109,
   "metadata": {},
   "outputs": [
    {
     "name": "stdout",
     "output_type": "stream",
     "text": [
      "SINE\n",
      " [[-0.90929743 -0.14112001]\n",
      " [-0.90929743  0.41211849]\n",
      " [-0.95892427 -0.90929743]]\n",
      "COS\n",
      " [[-0.41614684 -0.9899925 ]\n",
      " [-0.41614684 -0.91113026]\n",
      " [ 0.28366219 -0.41614684]]\n",
      "EXP\n",
      " [[  1.35335283e-01   4.97870684e-02]\n",
      " [  1.35335283e-01   8.10308393e+03]\n",
      " [  1.48413159e+02   1.35335283e-01]]\n",
      "LOG\n",
      " [[        nan         nan]\n",
      " [        nan  0.95424251]\n",
      " [ 0.69897            nan]]\n",
      "SQUARE\n",
      " [[ 4  9]\n",
      " [ 4 81]\n",
      " [25  4]]\n",
      "SQRT\n",
      " [[        nan         nan]\n",
      " [        nan  3.        ]\n",
      " [ 2.23606798         nan]]\n",
      "Ele wise comparision --- \n",
      " False\n"
     ]
    },
    {
     "name": "stderr",
     "output_type": "stream",
     "text": [
      "C:\\Users\\dumapath\\AppData\\Local\\conda\\conda\\envs\\my_root\\lib\\site-packages\\ipykernel_launcher.py:9: RuntimeWarning: invalid value encountered in log10\n",
      "  if __name__ == '__main__':\n",
      "C:\\Users\\dumapath\\AppData\\Local\\conda\\conda\\envs\\my_root\\lib\\site-packages\\ipykernel_launcher.py:13: RuntimeWarning: invalid value encountered in sqrt\n",
      "  del sys.path[0]\n"
     ]
    }
   ],
   "source": [
    "#### other functions like sin cos log exp and sqrt also can be performed on these matrix\n",
    "\n",
    "print (\"SINE\\n\",np.sin(A))\n",
    "print (\"COS\\n\",np.cos(A))\n",
    "\n",
    "\n",
    "print (\"EXP\\n\",np.exp(A))\n",
    "\n",
    "print (\"LOG\\n\",np.log10(A))\n",
    "\n",
    "print (\"SQUARE\\n\",np.square(A))\n",
    "\n",
    "print (\"SQRT\\n\",np.sqrt(A))\n",
    "\n",
    "print (\"Ele wise comparision --- \\n\", np.array_equal(A,B))\n",
    "\n",
    "#### nan is not a number as - squrt is not a number and -log also"
   ]
  },
  {
   "cell_type": "code",
   "execution_count": 82,
   "metadata": {},
   "outputs": [
    {
     "name": "stdout",
     "output_type": "stream",
     "text": [
      "[[ 0  1  2  3  4  5  6  7  8  9]\n",
      " [10 11 12 13 14 15 16 17 18 19]\n",
      " [20 21 22 23 24 25 26 27 28 29]\n",
      " [30 31 32 33 34 35 36 37 38 39]\n",
      " [40 41 42 43 44 45 46 47 48 49]\n",
      " [50 51 52 53 54 55 56 57 58 59]\n",
      " [60 61 62 63 64 65 66 67 68 69]\n",
      " [70 71 72 73 74 75 76 77 78 79]\n",
      " [80 81 82 83 84 85 86 87 88 89]\n",
      " [90 91 92 93 94 95 96 97 98 99]]\n"
     ]
    }
   ],
   "source": [
    "mat = np.arange(0,100).reshape(10,10)\n",
    "print (mat)"
   ]
  },
  {
   "cell_type": "markdown",
   "metadata": {},
   "source": [
    "We can perform indexing and slicing operations"
   ]
  },
  {
   "cell_type": "code",
   "execution_count": 111,
   "metadata": {},
   "outputs": [
    {
     "data": {
      "text/plain": [
       "0"
      ]
     },
     "execution_count": 111,
     "metadata": {},
     "output_type": "execute_result"
    }
   ],
   "source": [
    "mat[0,0]"
   ]
  },
  {
   "cell_type": "code",
   "execution_count": 113,
   "metadata": {},
   "outputs": [
    {
     "data": {
      "text/plain": [
       "95"
      ]
     },
     "execution_count": 113,
     "metadata": {},
     "output_type": "execute_result"
    }
   ],
   "source": [
    "mat[9,5]"
   ]
  },
  {
   "cell_type": "code",
   "execution_count": 114,
   "metadata": {},
   "outputs": [
    {
     "data": {
      "text/plain": [
       "10"
      ]
     },
     "execution_count": 114,
     "metadata": {},
     "output_type": "execute_result"
    }
   ],
   "source": [
    "mat.shape[0]"
   ]
  },
  {
   "cell_type": "code",
   "execution_count": 134,
   "metadata": {},
   "outputs": [
    {
     "name": "stdout",
     "output_type": "stream",
     "text": [
      "[ 0 10 20 30 40 50 60 70 80 90]\n"
     ]
    },
    {
     "data": {
      "text/plain": [
       "(10,)"
      ]
     },
     "execution_count": 134,
     "metadata": {},
     "output_type": "execute_result"
    }
   ],
   "source": [
    "#####ALL the rows in first column\n",
    "val = mat[0:10,0]\n",
    "print (val)\n",
    "val.shape"
   ]
  },
  {
   "cell_type": "code",
   "execution_count": 125,
   "metadata": {
    "scrolled": true
   },
   "outputs": [
    {
     "data": {
      "text/plain": [
       "array([[23],\n",
       "       [33],\n",
       "       [43],\n",
       "       [53],\n",
       "       [63],\n",
       "       [73]])"
      ]
     },
     "execution_count": 125,
     "metadata": {},
     "output_type": "execute_result"
    }
   ],
   "source": [
    "mat[2:8,3:4]   # doesnt include the end values"
   ]
  },
  {
   "cell_type": "code",
   "execution_count": 126,
   "metadata": {},
   "outputs": [
    {
     "data": {
      "text/plain": [
       "array([[23, 24, 25, 26, 27, 28, 29],\n",
       "       [33, 34, 35, 36, 37, 38, 39],\n",
       "       [43, 44, 45, 46, 47, 48, 49],\n",
       "       [53, 54, 55, 56, 57, 58, 59],\n",
       "       [63, 64, 65, 66, 67, 68, 69],\n",
       "       [73, 74, 75, 76, 77, 78, 79],\n",
       "       [83, 84, 85, 86, 87, 88, 89],\n",
       "       [93, 94, 95, 96, 97, 98, 99]])"
      ]
     },
     "execution_count": 126,
     "metadata": {},
     "output_type": "execute_result"
    }
   ],
   "source": [
    "mat[2:,3:] "
   ]
  },
  {
   "cell_type": "code",
   "execution_count": 127,
   "metadata": {},
   "outputs": [
    {
     "data": {
      "text/plain": [
       "array([[ 0,  1,  2],\n",
       "       [10, 11, 12]])"
      ]
     },
     "execution_count": 127,
     "metadata": {},
     "output_type": "execute_result"
    }
   ],
   "source": [
    "mat[:2,:3] "
   ]
  },
  {
   "cell_type": "code",
   "execution_count": 139,
   "metadata": {},
   "outputs": [
    {
     "name": "stdout",
     "output_type": "stream",
     "text": [
      "(6,)\n"
     ]
    },
    {
     "data": {
      "text/plain": [
       "(6,)"
      ]
     },
     "execution_count": 139,
     "metadata": {},
     "output_type": "execute_result"
    }
   ],
   "source": [
    "aray = np.array([1,2,3,4,5,6])\n",
    "print (aray.shape)"
   ]
  },
  {
   "cell_type": "raw",
   "metadata": {},
   "source": [
    "Inspecting Your Array:\n",
    ">> a.shape ------------------ Array dimensions\n",
    ">>> len(a) ------------------Length of array\n",
    ">>> b.ndim ------------------ Number of array dimensions\n",
    ">>> e.size ------------------Number of array elements\n",
    ">>> b.dtype ------------------Data type of array elements\n",
    ">>> b.dtype.name ------------------Name of data type\n",
    ">>> b.astype(int) ------------------Convert an array to a different type\n",
    "\n"
   ]
  },
  {
   "cell_type": "code",
   "execution_count": 142,
   "metadata": {},
   "outputs": [
    {
     "data": {
      "text/plain": [
       "array([ 0,  1,  2,  3,  4,  5,  6,  7,  8,  9, 10, 11, 12, 13, 14, 15, 16,\n",
       "       17, 18, 19, 20, 21, 22, 23, 24, 25, 26, 27, 28, 29, 30, 31, 32, 33,\n",
       "       34, 35, 36, 37, 38, 39, 40, 41, 42, 43, 44, 45, 46, 47, 48, 49])"
      ]
     },
     "execution_count": 142,
     "metadata": {},
     "output_type": "execute_result"
    }
   ],
   "source": [
    "#masking\n",
    "\n",
    "mat[mat<50]"
   ]
  },
  {
   "cell_type": "code",
   "execution_count": null,
   "metadata": {},
   "outputs": [],
   "source": []
  }
 ],
 "metadata": {
  "kernelspec": {
   "display_name": "Python 3",
   "language": "python",
   "name": "python3"
  },
  "language_info": {
   "codemirror_mode": {
    "name": "ipython",
    "version": 3
   },
   "file_extension": ".py",
   "mimetype": "text/x-python",
   "name": "python",
   "nbconvert_exporter": "python",
   "pygments_lexer": "ipython3",
   "version": "3.6.3"
  }
 },
 "nbformat": 4,
 "nbformat_minor": 2
}
