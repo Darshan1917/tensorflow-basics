{
 "cells": [
  {
   "cell_type": "code",
   "execution_count": null,
   "metadata": {},
   "outputs": [],
   "source": [
    "print (\"Welcome\")\n",
    "n=2\n",
    "while(n>1):\n",
    "    N = int(input(\"Number between 1 and 100 :\"))\n",
    "    if N<=0:\n",
    "        print(\"enter an positive number\")\n",
    "    elif(N>100):\n",
    "        print (\"enter a number less than 100\")\n",
    "    else:\n",
    "        n=1\n",
    "        print (\"Enterned number is\", N) "
   ]
  },
  {
   "cell_type": "code",
   "execution_count": null,
   "metadata": {},
   "outputs": [],
   "source": [
    "def arrayf(N):\n",
    "    arr=[]\n",
    "    arr[0]= 1\n",
    "    print(arr[0])\n",
    "    \n",
    "    "
   ]
  },
  {
   "cell_type": "code",
   "execution_count": null,
   "metadata": {},
   "outputs": [],
   "source": []
  }
 ],
 "metadata": {
  "kernelspec": {
   "display_name": "Python 3",
   "language": "python",
   "name": "python3"
  },
  "language_info": {
   "codemirror_mode": {
    "name": "ipython",
    "version": 3
   },
   "file_extension": ".py",
   "mimetype": "text/x-python",
   "name": "python",
   "nbconvert_exporter": "python",
   "pygments_lexer": "ipython3",
   "version": "3.6.3"
  }
 },
 "nbformat": 4,
 "nbformat_minor": 2
}
