{
 "cells": [
  {
   "cell_type": "markdown",
   "metadata": {},
   "source": [
    "# numpy and matplotlib"
   ]
  },
  {
   "cell_type": "code",
   "execution_count": 2,
   "metadata": {},
   "outputs": [],
   "source": [
    "import numpy as np\n",
    "import matplotlib as mlt\n",
    "import pandas as pd\n",
    "import pandas_datareader"
   ]
  },
  {
   "cell_type": "markdown",
   "metadata": {},
   "source": [
    "Lets start with numpy and then use other library"
   ]
  },
  {
   "cell_type": "code",
   "execution_count": 3,
   "metadata": {},
   "outputs": [],
   "source": [
    "list = (1,2,3,4,5,7,6)\n"
   ]
  },
  {
   "cell_type": "markdown",
   "metadata": {},
   "source": [
    "Here we are converting a list into an array by using the numpy. The type is an ndim-array\n",
    "\n",
    "We can directly assing it to an array "
   ]
  },
  {
   "cell_type": "code",
   "execution_count": 4,
   "metadata": {},
   "outputs": [
    {
     "data": {
      "text/plain": [
       "array([1, 2, 3, 4, 5, 7, 6])"
      ]
     },
     "execution_count": 4,
     "metadata": {},
     "output_type": "execute_result"
    }
   ],
   "source": [
    "np.array(list)"
   ]
  },
  {
   "cell_type": "code",
   "execution_count": 5,
   "metadata": {},
   "outputs": [
    {
     "data": {
      "text/plain": [
       "numpy.ndarray"
      ]
     },
     "execution_count": 5,
     "metadata": {},
     "output_type": "execute_result"
    }
   ],
   "source": [
    "type(np.array(list))"
   ]
  },
  {
   "cell_type": "code",
   "execution_count": 7,
   "metadata": {},
   "outputs": [],
   "source": [
    "arr =  np.array([0,1,2,3,4,5,6,7,8,9])"
   ]
  },
  {
   "cell_type": "code",
   "execution_count": 8,
   "metadata": {},
   "outputs": [
    {
     "name": "stdout",
     "output_type": "stream",
     "text": [
      "[0 1 2 3 4 5 6 7 8 9]\n"
     ]
    }
   ],
   "source": [
    "print(arr)"
   ]
  },
  {
   "cell_type": "markdown",
   "metadata": {},
   "source": [
    "Arange or np.arange is used to create an array with start value ,end value , step size and dtype\n",
    "\n",
    "below is the example for the same "
   ]
  },
  {
   "cell_type": "code",
   "execution_count": 15,
   "metadata": {},
   "outputs": [
    {
     "name": "stdout",
     "output_type": "stream",
     "text": [
      "[ 5  6  7  8  9 10 11 12 13 14]\n",
      "[  5.   7.   9.  11.  13.]\n"
     ]
    }
   ],
   "source": [
    "a = np.arange(5,15)\n",
    "b = np.arange(5,15,2,dtype=float)\n",
    "print (a)\n",
    "print(b)"
   ]
  },
  {
   "cell_type": "markdown",
   "metadata": {},
   "source": [
    "In Numpy we have quickways to create zeroes , diagonal 1 , ones other kind of in bulit function \n"
   ]
  },
  {
   "cell_type": "markdown",
   "metadata": {},
   "source": [
    "np.zeros has values ( shape , dtype= , order=) all values are 0\n",
    "\n",
    "\n",
    "np.ones has values ( shape , dtype= , order=) all values are  1"
   ]
  },
  {
   "cell_type": "code",
   "execution_count": 30,
   "metadata": {},
   "outputs": [
    {
     "name": "stdout",
     "output_type": "stream",
     "text": [
      "[ 0.  0.  0.  0.  0.]\n",
      "The default is float \n",
      " [[ 0.  0.  0.  0.  0.  0.]\n",
      " [ 0.  0.  0.  0.  0.  0.]\n",
      " [ 0.  0.  0.  0.  0.  0.]\n",
      " [ 0.  0.  0.  0.  0.  0.]\n",
      " [ 0.  0.  0.  0.  0.  0.]]\n",
      "Changed the dtype to int \n",
      " [[0 0 0 0 0 0]\n",
      " [0 0 0 0 0 0]\n",
      " [0 0 0 0 0 0]\n",
      " [0 0 0 0 0 0]\n",
      " [0 0 0 0 0 0]]\n"
     ]
    }
   ],
   "source": [
    "a = np.zeros(5)\n",
    "b= np.zeros([5,6])\n",
    "c= np.zeros([5,6],dtype=np.int64)\n",
    "print(a)\n",
    "print(\"The default is float \\n\" , b)\n",
    "print(\"Changed the dtype to int \\n\",c)"
   ]
  },
  {
   "cell_type": "raw",
   "metadata": {},
   "source": [
    "## Some Dtype in Numpy\n",
    "\n",
    "np.int64 Signed 64-bit integer types\n",
    "np.float32 Standard double-precision floating point\n",
    "np.complex Complex numbers represented by 128 floats\n",
    "np.bool Boolean type storing TRUE and FALSE values\n",
    "np.object Python object type\n",
    "np.string_ Fixed-length string type\n",
    "np.unicode_ Fixed-length unicode type"
   ]
  },
  {
   "cell_type": "code",
   "execution_count": 33,
   "metadata": {},
   "outputs": [
    {
     "name": "stdout",
     "output_type": "stream",
     "text": [
      "[ 1.  1.]\n",
      "The default is float \n",
      " [[ 1.  1.  1.  1.  1.]\n",
      " [ 1.  1.  1.  1.  1.]\n",
      " [ 1.  1.  1.  1.  1.]]\n",
      "Changed the dtype to int \n",
      " [[1 1 1 1]\n",
      " [1 1 1 1]]\n"
     ]
    }
   ],
   "source": [
    "a = np.ones(2)\n",
    "b = np.ones((3,5))\n",
    "c = np.ones((2,4),dtype=np.int16)\n",
    "print(a)\n",
    "print(\"The default is float \\n\" , b)\n",
    "print(\"Changed the dtype to int \\n\",c)"
   ]
  },
  {
   "cell_type": "markdown",
   "metadata": {},
   "source": [
    "We have another function known as eye which takes one parameter for diagonal element"
   ]
  },
  {
   "cell_type": "code",
   "execution_count": 36,
   "metadata": {},
   "outputs": [
    {
     "name": "stdout",
     "output_type": "stream",
     "text": [
      "[[ 1.  0.]\n",
      " [ 0.  1.]]\n",
      "The default is float \n",
      " [[ 1.  0.  0.  0.  0.]\n",
      " [ 0.  1.  0.  0.  0.]\n",
      " [ 0.  0.  1.  0.  0.]\n",
      " [ 0.  0.  0.  1.  0.]\n",
      " [ 0.  0.  0.  0.  1.]]\n",
      "Changed the dtype to int \n",
      " [[1 0]\n",
      " [0 1]]\n"
     ]
    }
   ],
   "source": [
    "a = np.eye(2)\n",
    "b = np.eye((5))\n",
    "c = np.eye((2),dtype=np.int32)\n",
    "print(a)\n",
    "print(\"The default is float \\n\" , b)\n",
    "print(\"Changed the dtype to int \\n\",c)"
   ]
  },
  {
   "cell_type": "markdown",
   "metadata": {},
   "source": [
    "Another function is np.linspace: Gives Lineraly spaced values \n",
    "\n",
    "\n",
    "np.linspace(start, stop, num=50, endpoint=True, retstep=False, dtype=None)"
   ]
  },
  {
   "cell_type": "code",
   "execution_count": 47,
   "metadata": {},
   "outputs": [
    {
     "data": {
      "text/plain": [
       "array([ 2.        ,  2.01010101,  2.02020202,  2.03030303,  2.04040404,\n",
       "        2.05050505,  2.06060606,  2.07070707,  2.08080808,  2.09090909,\n",
       "        2.1010101 ,  2.11111111,  2.12121212,  2.13131313,  2.14141414,\n",
       "        2.15151515,  2.16161616,  2.17171717,  2.18181818,  2.19191919,\n",
       "        2.2020202 ,  2.21212121,  2.22222222,  2.23232323,  2.24242424,\n",
       "        2.25252525,  2.26262626,  2.27272727,  2.28282828,  2.29292929,\n",
       "        2.3030303 ,  2.31313131,  2.32323232,  2.33333333,  2.34343434,\n",
       "        2.35353535,  2.36363636,  2.37373737,  2.38383838,  2.39393939,\n",
       "        2.4040404 ,  2.41414141,  2.42424242,  2.43434343,  2.44444444,\n",
       "        2.45454545,  2.46464646,  2.47474747,  2.48484848,  2.49494949,\n",
       "        2.50505051,  2.51515152,  2.52525253,  2.53535354,  2.54545455,\n",
       "        2.55555556,  2.56565657,  2.57575758,  2.58585859,  2.5959596 ,\n",
       "        2.60606061,  2.61616162,  2.62626263,  2.63636364,  2.64646465,\n",
       "        2.65656566,  2.66666667,  2.67676768,  2.68686869,  2.6969697 ,\n",
       "        2.70707071,  2.71717172,  2.72727273,  2.73737374,  2.74747475,\n",
       "        2.75757576,  2.76767677,  2.77777778,  2.78787879,  2.7979798 ,\n",
       "        2.80808081,  2.81818182,  2.82828283,  2.83838384,  2.84848485,\n",
       "        2.85858586,  2.86868687,  2.87878788,  2.88888889,  2.8989899 ,\n",
       "        2.90909091,  2.91919192,  2.92929293,  2.93939394,  2.94949495,\n",
       "        2.95959596,  2.96969697,  2.97979798,  2.98989899,  3.        ])"
      ]
     },
     "execution_count": 47,
     "metadata": {},
     "output_type": "execute_result"
    }
   ],
   "source": [
    "np.linspace(2.0, 3.0, num=100)"
   ]
  },
  {
   "cell_type": "code",
   "execution_count": 42,
   "metadata": {},
   "outputs": [
    {
     "data": {
      "text/plain": [
       "array([ 2. ,  2.2,  2.4,  2.6,  2.8])"
      ]
     },
     "execution_count": 42,
     "metadata": {},
     "output_type": "execute_result"
    }
   ],
   "source": [
    "np.linspace(2.0, 3.0, num=5, endpoint=False) # doesnt involve the 3"
   ]
  },
  {
   "cell_type": "code",
   "execution_count": 48,
   "metadata": {},
   "outputs": [
    {
     "data": {
      "text/plain": [
       "(array([ 2.        ,  2.02040816,  2.04081633,  2.06122449,  2.08163265,\n",
       "         2.10204082,  2.12244898,  2.14285714,  2.16326531,  2.18367347,\n",
       "         2.20408163,  2.2244898 ,  2.24489796,  2.26530612,  2.28571429,\n",
       "         2.30612245,  2.32653061,  2.34693878,  2.36734694,  2.3877551 ,\n",
       "         2.40816327,  2.42857143,  2.44897959,  2.46938776,  2.48979592,\n",
       "         2.51020408,  2.53061224,  2.55102041,  2.57142857,  2.59183673,\n",
       "         2.6122449 ,  2.63265306,  2.65306122,  2.67346939,  2.69387755,\n",
       "         2.71428571,  2.73469388,  2.75510204,  2.7755102 ,  2.79591837,\n",
       "         2.81632653,  2.83673469,  2.85714286,  2.87755102,  2.89795918,\n",
       "         2.91836735,  2.93877551,  2.95918367,  2.97959184,  3.        ]),\n",
       " 0.020408163265306121)"
      ]
     },
     "execution_count": 48,
     "metadata": {},
     "output_type": "execute_result"
    }
   ],
   "source": [
    "np.linspace(2.0, 3.0, num=50, retstep=True) # retstep returns the stepsize of the sampling if false doesnt return"
   ]
  },
  {
   "cell_type": "code",
   "execution_count": 56,
   "metadata": {},
   "outputs": [
    {
     "name": "stdout",
     "output_type": "stream",
     "text": [
      "2\n"
     ]
    }
   ],
   "source": [
    "a = np.array([1,5,4,2])\n",
    "if(len(a)>0):\n",
    "    counter = len(a)//2\n",
    "    print (counter)\n",
    "    if(counter == 2):\n",
    "        for x in xrange(3):"
   ]
  },
  {
   "cell_type": "code",
   "execution_count": 65,
   "metadata": {},
   "outputs": [
    {
     "name": "stdout",
     "output_type": "stream",
     "text": [
      "0\n",
      "6\n",
      "1\n"
     ]
    },
    {
     "ename": "IndexError",
     "evalue": "index 4 is out of bounds for axis 0 with size 4",
     "output_type": "error",
     "traceback": [
      "\u001b[1;31m---------------------------------------------------------------------------\u001b[0m",
      "\u001b[1;31mIndexError\u001b[0m                                Traceback (most recent call last)",
      "\u001b[1;32m<ipython-input-65-d75855596cc4>\u001b[0m in \u001b[0;36m<module>\u001b[1;34m()\u001b[0m\n\u001b[0;32m      7\u001b[0m             \u001b[0mprint\u001b[0m \u001b[1;33m(\u001b[0m\u001b[0mx\u001b[0m\u001b[1;33m)\u001b[0m\u001b[1;33m\u001b[0m\u001b[0m\n\u001b[0;32m      8\u001b[0m             \u001b[0mres1\u001b[0m \u001b[1;33m=\u001b[0m \u001b[0ma\u001b[0m\u001b[1;33m[\u001b[0m\u001b[0mx\u001b[0m\u001b[1;33m]\u001b[0m \u001b[1;33m+\u001b[0m \u001b[0ma\u001b[0m\u001b[1;33m[\u001b[0m\u001b[0mx\u001b[0m\u001b[1;33m+\u001b[0m\u001b[1;36m1\u001b[0m\u001b[1;33m]\u001b[0m\u001b[1;33m\u001b[0m\u001b[0m\n\u001b[1;32m----> 9\u001b[1;33m             \u001b[0mres2\u001b[0m \u001b[1;33m=\u001b[0m \u001b[0ma\u001b[0m\u001b[1;33m[\u001b[0m\u001b[0mx\u001b[0m\u001b[1;33m+\u001b[0m\u001b[1;36m2\u001b[0m\u001b[1;33m]\u001b[0m \u001b[1;33m+\u001b[0m \u001b[0ma\u001b[0m\u001b[1;33m[\u001b[0m\u001b[0mx\u001b[0m\u001b[1;33m+\u001b[0m\u001b[1;36m3\u001b[0m\u001b[1;33m]\u001b[0m\u001b[1;33m\u001b[0m\u001b[0m\n\u001b[0m\u001b[0;32m     10\u001b[0m             \u001b[1;32mif\u001b[0m \u001b[1;33m(\u001b[0m\u001b[0mres1\u001b[0m\u001b[1;33m==\u001b[0m\u001b[0mres2\u001b[0m\u001b[1;33m)\u001b[0m\u001b[1;33m:\u001b[0m\u001b[1;33m\u001b[0m\u001b[0m\n\u001b[0;32m     11\u001b[0m                  \u001b[0mprint\u001b[0m\u001b[1;33m(\u001b[0m\u001b[0mres2\u001b[0m\u001b[1;33m)\u001b[0m\u001b[1;33m\u001b[0m\u001b[0m\n",
      "\u001b[1;31mIndexError\u001b[0m: index 4 is out of bounds for axis 0 with size 4"
     ]
    }
   ],
   "source": [
    "a = (1,5,4,2)\n",
    "if(len(a)>0):\n",
    "    counter = len(a)//2\n",
    "    #print (counter)\n",
    "    if(counter == 2):\n",
    "        for x in range(len(a)):\n",
    "            res1 = a[x] + a[x+1]\n",
    "            res2 = a[x+2] + a[x+3]\n",
    "            if (res1==res2):\n",
    "                 print(res2)"
   ]
  },
  {
   "cell_type": "code",
   "execution_count": null,
   "metadata": {},
   "outputs": [],
   "source": []
  },
  {
   "cell_type": "code",
   "execution_count": null,
   "metadata": {},
   "outputs": [],
   "source": []
  }
 ],
 "metadata": {
  "kernelspec": {
   "display_name": "Python 3",
   "language": "python",
   "name": "python3"
  },
  "language_info": {
   "codemirror_mode": {
    "name": "ipython",
    "version": 3
   },
   "file_extension": ".py",
   "mimetype": "text/x-python",
   "name": "python",
   "nbconvert_exporter": "python",
   "pygments_lexer": "ipython3",
   "version": "3.6.3"
  }
 },
 "nbformat": 4,
 "nbformat_minor": 2
}
