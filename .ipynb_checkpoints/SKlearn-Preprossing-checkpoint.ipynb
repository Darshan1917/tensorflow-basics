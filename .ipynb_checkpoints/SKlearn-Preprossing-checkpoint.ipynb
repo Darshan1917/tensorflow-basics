{
 "cells": [
  {
   "cell_type": "code",
   "execution_count": 1,
   "metadata": {},
   "outputs": [],
   "source": [
    "import numpy as np\n",
    "import matplotlib.pyplot as plt\n",
    "import pandas as pd\n",
    "import pandas_datareader\n",
    "import sklearn"
   ]
  },
  {
   "cell_type": "code",
   "execution_count": 2,
   "metadata": {},
   "outputs": [
    {
     "name": "stdout",
     "output_type": "stream",
     "text": [
      "[[25 31 52]\n",
      " [78 62 90]\n",
      " [47  8 67]\n",
      " [ 8 13 26]\n",
      " [57 57 59]\n",
      " [58 97 49]\n",
      " [92 69 88]\n",
      " [15 92 85]\n",
      " [11 57  9]\n",
      " [81 48 36]]\n"
     ]
    }
   ],
   "source": [
    "data = np.random.randint(1,100,size=(10,3))\n",
    "print(data)"
   ]
  },
  {
   "cell_type": "code",
   "execution_count": 3,
   "metadata": {},
   "outputs": [],
   "source": [
    "from sklearn.preprocessing import MinMaxScaler"
   ]
  },
  {
   "cell_type": "code",
   "execution_count": 4,
   "metadata": {},
   "outputs": [
    {
     "name": "stdout",
     "output_type": "stream",
     "text": [
      "MinMaxScaler(copy=True, feature_range=(0, 1))\n"
     ]
    }
   ],
   "source": [
    "sclar_ini = MinMaxScaler()  # create an instance of the Preprosseing step\n",
    "print(sclar_ini)\n"
   ]
  },
  {
   "cell_type": "code",
   "execution_count": 6,
   "metadata": {},
   "outputs": [
    {
     "name": "stdout",
     "output_type": "stream",
     "text": [
      "MinMaxScaler(copy=True, feature_range=(0, 1))\n",
      "[[ 0.20238095  0.25842697  0.5308642 ]\n",
      " [ 0.83333333  0.60674157  1.        ]\n",
      " [ 0.46428571  0.          0.71604938]\n",
      " [ 0.          0.05617978  0.20987654]\n",
      " [ 0.58333333  0.5505618   0.61728395]\n",
      " [ 0.5952381   1.          0.49382716]\n",
      " [ 1.          0.68539326  0.97530864]\n",
      " [ 0.08333333  0.94382022  0.9382716 ]\n",
      " [ 0.03571429  0.5505618   0.        ]\n",
      " [ 0.86904762  0.4494382   0.33333333]]\n"
     ]
    },
    {
     "name": "stderr",
     "output_type": "stream",
     "text": [
      "C:\\Users\\dumapath\\AppData\\Local\\conda\\conda\\envs\\my_root\\lib\\site-packages\\sklearn\\utils\\validation.py:475: DataConversionWarning: Data with input dtype int32 was converted to float64 by MinMaxScaler.\n",
      "  warnings.warn(msg, DataConversionWarning)\n"
     ]
    }
   ],
   "source": [
    "# Fit the data to it and transform it \n",
    "\n",
    "scaler = sclar_ini.fit(data)\n",
    "standardized_X = scaler.transform(data)\n",
    "print (scaler)\n",
    "print(standardized_X)\n"
   ]
  },
  {
   "cell_type": "markdown",
   "metadata": {},
   "source": [
    "### MinMaxScaler -- the max value in the column is made 1 and min value is made 0 and the values are fit in between them"
   ]
  },
  {
   "cell_type": "code",
   "execution_count": 8,
   "metadata": {},
   "outputs": [],
   "source": [
    "### Standardization \n",
    "from sklearn.preprocessing import StandardScaler"
   ]
  },
  {
   "cell_type": "code",
   "execution_count": null,
   "metadata": {},
   "outputs": [],
   "source": [
    "standard_inst = StandardScaler()\n",
    "standard_fit = standard_inst(data)"
   ]
  }
 ],
 "metadata": {
  "kernelspec": {
   "display_name": "Python 3",
   "language": "python",
   "name": "python3"
  },
  "language_info": {
   "codemirror_mode": {
    "name": "ipython",
    "version": 3
   },
   "file_extension": ".py",
   "mimetype": "text/x-python",
   "name": "python",
   "nbconvert_exporter": "python",
   "pygments_lexer": "ipython3",
   "version": "3.6.3"
  }
 },
 "nbformat": 4,
 "nbformat_minor": 2
}
