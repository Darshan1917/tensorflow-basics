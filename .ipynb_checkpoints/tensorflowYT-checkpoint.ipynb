{
 "cells": [
  {
   "cell_type": "markdown",
   "metadata": {},
   "source": [
    "# TENSORFLOW YT"
   ]
  },
  {
   "cell_type": "code",
   "execution_count": 1,
   "metadata": {},
   "outputs": [],
   "source": [
    "import tensorflow as tf"
   ]
  },
  {
   "cell_type": "code",
   "execution_count": 2,
   "metadata": {},
   "outputs": [],
   "source": [
    "a = tf.constant(5)\n",
    "b= tf.constant(3)"
   ]
  },
  {
   "cell_type": "code",
   "execution_count": 3,
   "metadata": {},
   "outputs": [
    {
     "name": "stdout",
     "output_type": "stream",
     "text": [
      "8\n"
     ]
    }
   ],
   "source": [
    "with tf.Session() as sess:\n",
    "    c = a+b;\n",
    "    res = sess.run(c)\n",
    "    print (res)"
   ]
  },
  {
   "cell_type": "markdown",
   "metadata": {},
   "source": [
    "We can see above the use of Session inside a with block \n"
   ]
  },
  {
   "cell_type": "markdown",
   "metadata": {},
   "source": [
    "### MULTI DIMENSIONAL ARRAY "
   ]
  },
  {
   "cell_type": "code",
   "execution_count": 10,
   "metadata": {},
   "outputs": [],
   "source": [
    "scalar = tf.constant([2])\n",
    "vector = tf.constant([1,2,3])\n",
    "matrix = tf.constant([[1,2,3],[4,5,6]])\n",
    "tensor = tf.constant([ [[1,2,3],[4,5,6],[1,2,3]], [[1,2,3],[4,5,6],[1,2,3]], [[1,2,3],[4,5,6],[1,2,3]] ])"
   ]
  },
  {
   "cell_type": "code",
   "execution_count": 14,
   "metadata": {},
   "outputs": [
    {
     "name": "stdout",
     "output_type": "stream",
     "text": [
      "Scalar [2]\n",
      "Vector [1 2 3]\n",
      "Matrix [[1 2 3]\n",
      " [4 5 6]]\n",
      "Tesnor [[[1 2 3]\n",
      "  [4 5 6]\n",
      "  [1 2 3]]\n",
      "\n",
      " [[1 2 3]\n",
      "  [4 5 6]\n",
      "  [1 2 3]]\n",
      "\n",
      " [[1 2 3]\n",
      "  [4 5 6]\n",
      "  [1 2 3]]]\n"
     ]
    }
   ],
   "source": [
    "with tf.Session() as ses:\n",
    "    resu = ses.run(scalar)\n",
    "    print (\"Scalar\", resu)\n",
    "    resu = ses.run(vector)\n",
    "    print (\"Vector\",resu)\n",
    "    resu = ses.run(matrix)\n",
    "    print (\"Matrix\",resu)\n",
    "    resu = ses.run(tensor)\n",
    "    print (\"Tesnor\",resu)"
   ]
  },
  {
   "cell_type": "code",
   "execution_count": 19,
   "metadata": {},
   "outputs": [
    {
     "name": "stdout",
     "output_type": "stream",
     "text": [
      "tensor3 \n",
      " [[[ 2  4  6]\n",
      "  [ 8 10 12]\n",
      "  [ 2  4  6]]\n",
      "\n",
      " [[ 2  4  6]\n",
      "  [ 8 10 12]\n",
      "  [ 2  4  6]]\n",
      "\n",
      " [[ 2  4  6]\n",
      "  [ 8 10 12]\n",
      "  [ 2  4  6]]] \n",
      "\n",
      "tensor4 \n",
      " [[[ 2  4  6]\n",
      "  [ 8 10 12]\n",
      "  [ 2  4  6]]\n",
      "\n",
      " [[ 2  4  6]\n",
      "  [ 8 10 12]\n",
      "  [ 2  4  6]]\n",
      "\n",
      " [[ 2  4  6]\n",
      "  [ 8 10 12]\n",
      "  [ 2  4  6]]]\n"
     ]
    }
   ],
   "source": [
    "tensor1 = tf.constant([ [[1,2,3],[4,5,6],[1,2,3]], [[1,2,3],[4,5,6],[1,2,3]], [[1,2,3],[4,5,6],[1,2,3]] ])\n",
    "tensor2 = tf.constant([ [[1,2,3],[4,5,6],[1,2,3]], [[1,2,3],[4,5,6],[1,2,3]], [[1,2,3],[4,5,6],[1,2,3]] ])\n",
    "\n",
    "tensor3 = tensor1+tensor2\n",
    "tensor4 = tf.add(tensor1,tensor2)\n",
    "\n",
    "with tf.Session() as ses:\n",
    "    resu = ses.run(tensor3)\n",
    "    print (\"tensor3 \\n\", resu ,\"\\n\")\n",
    "    resu = ses.run(tensor4)\n",
    "    print (\"tensor4 \\n\", resu)\n"
   ]
  },
  {
   "cell_type": "markdown",
   "metadata": {},
   "source": [
    "## General multiplication vs Matmul (dot product)"
   ]
  },
  {
   "cell_type": "markdown",
   "metadata": {},
   "source": [
    "## General multiplication "
   ]
  },
  {
   "cell_type": "code",
   "execution_count": 21,
   "metadata": {},
   "outputs": [
    {
     "name": "stdout",
     "output_type": "stream",
     "text": [
      "tensor3 \n",
      " [[[ 1  4  9]\n",
      "  [16 25 36]\n",
      "  [ 1  4  9]]\n",
      "\n",
      " [[ 1  4  9]\n",
      "  [16 25 36]\n",
      "  [ 1  4  9]]\n",
      "\n",
      " [[ 1  4  9]\n",
      "  [16 25 36]\n",
      "  [ 1  4  9]]] \n",
      "\n",
      "tensor4 \n",
      " [[[ 1  4  9]\n",
      "  [16 25 36]\n",
      "  [ 1  4  9]]\n",
      "\n",
      " [[ 1  4  9]\n",
      "  [16 25 36]\n",
      "  [ 1  4  9]]\n",
      "\n",
      " [[ 1  4  9]\n",
      "  [16 25 36]\n",
      "  [ 1  4  9]]]\n"
     ]
    }
   ],
   "source": [
    "tensor1 = tf.constant([ [[1,2,3],[4,5,6],[1,2,3]], [[1,2,3],[4,5,6],[1,2,3]], [[1,2,3],[4,5,6],[1,2,3]] ])\n",
    "tensor2 = tf.constant([ [[1,2,3],[4,5,6],[1,2,3]], [[1,2,3],[4,5,6],[1,2,3]], [[1,2,3],[4,5,6],[1,2,3]] ])\n",
    "\n",
    "tensor3 = tensor1 * tensor2\n",
    "tensor4 = tf.multiply (tensor1,tensor2)\n",
    "\n",
    "with tf.Session() as ses:\n",
    "    resu = ses.run(tensor3)\n",
    "    print (\"tensor3 \\n\", resu ,\"\\n\")\n",
    "    resu = ses.run(tensor4)\n",
    "    print (\"tensor4 \\n\", resu)\n"
   ]
  },
  {
   "cell_type": "markdown",
   "metadata": {},
   "source": [
    "## General vs Matmul "
   ]
  },
  {
   "cell_type": "code",
   "execution_count": 24,
   "metadata": {},
   "outputs": [
    {
     "name": "stdout",
     "output_type": "stream",
     "text": [
      "tensor3 \n",
      " [[[ 2  4  6]\n",
      "  [ 8 10 12]\n",
      "  [ 2  4  6]]\n",
      "\n",
      " [[ 2  4  6]\n",
      "  [ 8 10 12]\n",
      "  [ 2  4  6]]\n",
      "\n",
      " [[ 2  4  6]\n",
      "  [ 8 10 12]\n",
      "  [ 2  4  6]]] \n",
      "\n",
      "tensor4 \n",
      " [[[12 18 24]\n",
      "  [30 45 60]\n",
      "  [12 18 24]]\n",
      "\n",
      " [[12 18 24]\n",
      "  [30 45 60]\n",
      "  [12 18 24]]\n",
      "\n",
      " [[12 18 24]\n",
      "  [30 45 60]\n",
      "  [12 18 24]]]\n",
      "eye \n",
      " [[ 1.  0.]\n",
      " [ 0.  1.]]\n"
     ]
    }
   ],
   "source": [
    "tensor1 = tf.constant([ [[1,2,3],[4,5,6],[1,2,3]], [[1,2,3],[4,5,6],[1,2,3]], [[1,2,3],[4,5,6],[1,2,3]] ])\n",
    "tensor2 = tf.constant([ [[1,2,3],[4,5,6],[1,2,3]], [[1,2,3],[4,5,6],[1,2,3]], [[1,2,3],[4,5,6],[1,2,3]] ])\n",
    "\n",
    "tensor3 = tensor1*tensor2\n",
    "tensor4 = tf.matmul(tensor1,tensor2)\n",
    "\n",
    "with tf.Session() as ses:\n",
    "    resu = ses.run(tensor3)\n",
    "    print (\"tensor3 \\n\", resu ,\"\\n\")\n",
    "    resu = ses.run(tensor4)\n",
    "    print (\"tensor4 \\n\", resu)\n",
    "    resu = ses.run(tf.eye(2))\n",
    "    print (\"eye \\n\", resu)"
   ]
  },
  {
   "cell_type": "code",
   "execution_count": null,
   "metadata": {},
   "outputs": [],
   "source": []
  }
 ],
 "metadata": {
  "kernelspec": {
   "display_name": "Python 3",
   "language": "python",
   "name": "python3"
  },
  "language_info": {
   "codemirror_mode": {
    "name": "ipython",
    "version": 3
   },
   "file_extension": ".py",
   "mimetype": "text/x-python",
   "name": "python",
   "nbconvert_exporter": "python",
   "pygments_lexer": "ipython3",
   "version": "3.6.3"
  }
 },
 "nbformat": 4,
 "nbformat_minor": 2
}
