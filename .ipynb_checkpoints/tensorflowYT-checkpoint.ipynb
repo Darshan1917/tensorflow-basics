{
 "cells": [
  {
   "cell_type": "markdown",
   "metadata": {},
   "source": [
    "# TENSORFLOW YT"
   ]
  },
  {
   "cell_type": "code",
   "execution_count": 2,
   "metadata": {},
   "outputs": [],
   "source": [
    "import tensorflow as tf"
   ]
  },
  {
   "cell_type": "code",
   "execution_count": 3,
   "metadata": {},
   "outputs": [],
   "source": [
    "a = tf.constant(5)\n",
    "b= tf.constant(3)"
   ]
  },
  {
   "cell_type": "code",
   "execution_count": 4,
   "metadata": {},
   "outputs": [
    {
     "name": "stdout",
     "output_type": "stream",
     "text": [
      "8\n"
     ]
    }
   ],
   "source": [
    "with tf.Session() as sess:\n",
    "    c = a+b;\n",
    "    res = sess.run(c)\n",
    "    print (res)"
   ]
  },
  {
   "cell_type": "markdown",
   "metadata": {},
   "source": [
    "We can see above the use of Session inside a with block \n"
   ]
  },
  {
   "cell_type": "markdown",
   "metadata": {},
   "source": [
    "### MULTI DIMENSIONAL ARRAY "
   ]
  },
  {
   "cell_type": "code",
   "execution_count": 5,
   "metadata": {},
   "outputs": [],
   "source": [
    "scalar = tf.constant([2])\n",
    "vector = tf.constant([1,2,3])\n",
    "matrix = tf.constant([[1,2,3],[4,5,6]])\n",
    "tensor = tf.constant([ [[1,2,3],[4,5,6],[1,2,3]], [[1,2,3],[4,5,6],[1,2,3]], [[1,2,3],[4,5,6],[1,2,3]] ])"
   ]
  },
  {
   "cell_type": "code",
   "execution_count": 6,
   "metadata": {},
   "outputs": [
    {
     "name": "stdout",
     "output_type": "stream",
     "text": [
      "Scalar [2]\n",
      "Vector [1 2 3]\n",
      "Matrix [[1 2 3]\n",
      " [4 5 6]]\n",
      "Tesnor [[[1 2 3]\n",
      "  [4 5 6]\n",
      "  [1 2 3]]\n",
      "\n",
      " [[1 2 3]\n",
      "  [4 5 6]\n",
      "  [1 2 3]]\n",
      "\n",
      " [[1 2 3]\n",
      "  [4 5 6]\n",
      "  [1 2 3]]]\n"
     ]
    }
   ],
   "source": [
    "with tf.Session() as ses:\n",
    "    resu = ses.run(scalar)\n",
    "    print (\"Scalar\", resu)\n",
    "    resu = ses.run(vector)\n",
    "    print (\"Vector\",resu)\n",
    "    resu = ses.run(matrix)\n",
    "    print (\"Matrix\",resu)\n",
    "    resu = ses.run(tensor)\n",
    "    print (\"Tesnor\",resu)"
   ]
  },
  {
   "cell_type": "code",
   "execution_count": 19,
   "metadata": {},
   "outputs": [
    {
     "name": "stdout",
     "output_type": "stream",
     "text": [
      "tensor3 \n",
      " [[[ 2  4  6]\n",
      "  [ 8 10 12]\n",
      "  [ 2  4  6]]\n",
      "\n",
      " [[ 2  4  6]\n",
      "  [ 8 10 12]\n",
      "  [ 2  4  6]]\n",
      "\n",
      " [[ 2  4  6]\n",
      "  [ 8 10 12]\n",
      "  [ 2  4  6]]] \n",
      "\n",
      "tensor4 \n",
      " [[[ 2  4  6]\n",
      "  [ 8 10 12]\n",
      "  [ 2  4  6]]\n",
      "\n",
      " [[ 2  4  6]\n",
      "  [ 8 10 12]\n",
      "  [ 2  4  6]]\n",
      "\n",
      " [[ 2  4  6]\n",
      "  [ 8 10 12]\n",
      "  [ 2  4  6]]]\n"
     ]
    }
   ],
   "source": [
    "tensor1 = tf.constant([ [[1,2,3],[4,5,6],[1,2,3]], [[1,2,3],[4,5,6],[1,2,3]], [[1,2,3],[4,5,6],[1,2,3]] ])\n",
    "tensor2 = tf.constant([ [[1,2,3],[4,5,6],[1,2,3]], [[1,2,3],[4,5,6],[1,2,3]], [[1,2,3],[4,5,6],[1,2,3]] ])\n",
    "\n",
    "tensor3 = tensor1+tensor2\n",
    "tensor4 = tf.add(tensor1,tensor2)\n",
    "\n",
    "with tf.Session() as ses:\n",
    "    resu = ses.run(tensor3)\n",
    "    print (\"tensor3 \\n\", resu ,\"\\n\")\n",
    "    resu = ses.run(tensor4)\n",
    "    print (\"tensor4 \\n\", resu)\n"
   ]
  },
  {
   "cell_type": "markdown",
   "metadata": {},
   "source": [
    "## General multiplication vs Matmul (dot product)"
   ]
  },
  {
   "cell_type": "markdown",
   "metadata": {},
   "source": [
    "## General multiplication "
   ]
  },
  {
   "cell_type": "code",
   "execution_count": 7,
   "metadata": {},
   "outputs": [
    {
     "name": "stdout",
     "output_type": "stream",
     "text": [
      "tensor3 \n",
      " [[[ 1  4  9]\n",
      "  [16 25 36]\n",
      "  [ 1  4  9]]\n",
      "\n",
      " [[ 1  4  9]\n",
      "  [16 25 36]\n",
      "  [ 1  4  9]]\n",
      "\n",
      " [[ 1  4  9]\n",
      "  [16 25 36]\n",
      "  [ 1  4  9]]] \n",
      "\n",
      "tensor4 \n",
      " [[[ 1  4  9]\n",
      "  [16 25 36]\n",
      "  [ 1  4  9]]\n",
      "\n",
      " [[ 1  4  9]\n",
      "  [16 25 36]\n",
      "  [ 1  4  9]]\n",
      "\n",
      " [[ 1  4  9]\n",
      "  [16 25 36]\n",
      "  [ 1  4  9]]]\n"
     ]
    }
   ],
   "source": [
    "tensor1 = tf.constant([ [[1,2,3],[4,5,6],[1,2,3]], [[1,2,3],[4,5,6],[1,2,3]], [[1,2,3],[4,5,6],[1,2,3]] ])\n",
    "tensor2 = tf.constant([ [[1,2,3],[4,5,6],[1,2,3]], [[1,2,3],[4,5,6],[1,2,3]], [[1,2,3],[4,5,6],[1,2,3]] ])\n",
    "\n",
    "tensor3 = tensor1 * tensor2\n",
    "tensor4 = tf.multiply (tensor1,tensor2)\n",
    "\n",
    "with tf.Session() as ses:\n",
    "    resu = ses.run(tensor3)\n",
    "    print (\"tensor3 \\n\", resu ,\"\\n\")\n",
    "    resu = ses.run(tensor4)\n",
    "    print (\"tensor4 \\n\", resu)\n"
   ]
  },
  {
   "cell_type": "markdown",
   "metadata": {},
   "source": [
    "## General vs Matmul "
   ]
  },
  {
   "cell_type": "code",
   "execution_count": 12,
   "metadata": {},
   "outputs": [
    {
     "name": "stdout",
     "output_type": "stream",
     "text": [
      "tensor3 \n",
      " [[[ 1  4  9]\n",
      "  [16 25 36]\n",
      "  [ 1  4  9]]\n",
      "\n",
      " [[ 1  4  9]\n",
      "  [16 25 36]\n",
      "  [ 1  4  9]]\n",
      "\n",
      " [[ 1  4  9]\n",
      "  [16 25 36]\n",
      "  [ 1  4  9]]] \n",
      "\n",
      "tensor4 \n",
      " [[[12 18 24]\n",
      "  [30 45 60]\n",
      "  [12 18 24]]\n",
      "\n",
      " [[12 18 24]\n",
      "  [30 45 60]\n",
      "  [12 18 24]]\n",
      "\n",
      " [[12 18 24]\n",
      "  [30 45 60]\n",
      "  [12 18 24]]]\n",
      "eye \n",
      " [[ 0.  0.  0.]\n",
      " [ 0.  0.  0.]]\n"
     ]
    }
   ],
   "source": [
    "tensor1 = tf.constant([ [[1,2,3],[4,5,6],[1,2,3]], [[1,2,3],[4,5,6],[1,2,3]], [[1,2,3],[4,5,6],[1,2,3]] ])\n",
    "tensor2 = tf.constant([ [[1,2,3],[4,5,6],[1,2,3]], [[1,2,3],[4,5,6],[1,2,3]], [[1,2,3],[4,5,6],[1,2,3]] ])\n",
    "\n",
    "tensor3 = tensor1*tensor2\n",
    "tensor4 = tf.matmul(tensor1,tensor2)\n",
    "\n",
    "with tf.Session() as ses:\n",
    "    resu = ses.run(tensor3)\n",
    "    print (\"tensor3 \\n\", resu ,\"\\n\")\n",
    "    resu = ses.run(tensor4)\n",
    "    print (\"tensor4 \\n\", resu)\n",
    "    resu = ses.run(tf.zeros([2,3]))\n",
    "    print (\"eye \\n\", resu)"
   ]
  },
  {
   "cell_type": "markdown",
   "metadata": {},
   "source": [
    "## TF Zeros vs Eye vs Ones"
   ]
  },
  {
   "cell_type": "code",
   "execution_count": 21,
   "metadata": {},
   "outputs": [
    {
     "name": "stdout",
     "output_type": "stream",
     "text": [
      "Zeroes \n",
      " [[0 0 0]\n",
      " [0 0 0]] \n",
      "\n",
      "ZERO1 \n",
      " [ 0.  0.]\n",
      "Eye \n",
      " [[ 1.  0.  0.  0.  0.]\n",
      " [ 0.  1.  0.  0.  0.]\n",
      " [ 0.  0.  1.  0.  0.]\n",
      " [ 0.  0.  0.  1.  0.]\n",
      " [ 0.  0.  0.  0.  1.]]\n",
      "Ones \n",
      " [ 1.  1.]\n",
      "Ones1 \n",
      " [[ 1.  1.  1.  1.  1.  1.]\n",
      " [ 1.  1.  1.  1.  1.  1.]]\n"
     ]
    }
   ],
   "source": [
    "ZERO = tf.zeros([2,3] , dtype=tf.int64)\n",
    "ZERO1 = tf.zeros(2)\n",
    "EYE = tf.eye(5)\n",
    "ONES = tf.ones(2)\n",
    "ONES1 = tf.ones([2,6])\n",
    "\n",
    "\n",
    "with tf.Session() as sess:\n",
    "    resu = sess.run(ZERO)\n",
    "    print (\"Zeroes \\n\", resu ,\"\\n\")\n",
    "    resu = sess.run(ZERO1)\n",
    "    print (\"ZERO1 \\n\", resu)\n",
    "    resu = sess.run(EYE)\n",
    "    print (\"Eye \\n\", resu)\n",
    "    resu = sess.run(ONES)\n",
    "    print (\"Ones \\n\", resu)\n",
    "    resu = sess.run(ONES1)\n",
    "    print (\"Ones1 \\n\", resu) "
   ]
  },
  {
   "cell_type": "raw",
   "metadata": {},
   "source": [
    "Dtype in Tensorflow :\n",
    "\n",
    "tf.float16: 16-bit half-precision floating-point.\n",
    "tf.float32: 32-bit single-precision floating-point.\n",
    "tf.float64: 64-bit double-precision floating-point.\n",
    "tf.bfloat16: 16-bit truncated floating-point.\n",
    "tf.complex64: 64-bit single-precision complex.\n",
    "tf.complex128: 128-bit double-precision complex.\n",
    "tf.int8: 8-bit signed integer.\n",
    "tf.uint8: 8-bit unsigned integer.\n",
    "tf.uint16: 16-bit unsigned integer.\n",
    "tf.uint32: 32-bit unsigned integer.\n",
    "tf.uint64: 64-bit unsigned integer.\n",
    "tf.int16: 16-bit signed integer.\n",
    "tf.int32: 32-bit signed integer.\n",
    "tf.int64: 64-bit signed integer.\n",
    "tf.bool: Boolean.\n",
    "tf.string: String.\n",
    "tf.qint8: Quantized 8-bit signed integer.\n",
    "tf.quint8: Quantized 8-bit unsigned integer.\n",
    "tf.qint16: Quantized 16-bit signed integer.\n",
    "tf.quint16: Quantized 16-bit unsigned integer.\n",
    "tf.qint32: Quantized 32-bit signed integer.\n",
    "tf.resource: Handle to a mutable resource.\n",
    "tf.variant: Values of arbitrary types.\n",
    "\n",
    "\n",
    "Along with this we even have few important properties :\n",
    "\n",
    "as_numpy_dtype\n",
    "Returns a numpy.dtype based on this DType.\n",
    "\n",
    "base_dtype\n",
    "Returns a non-reference DType based on this DType.\n",
    "\n",
    "is_bool\n",
    "Returns whether this is a boolean data type\n",
    "\n",
    "is_complex\n",
    "Returns whether this is a complex floating point type.\n",
    "\n",
    "is_floating\n",
    "Returns whether this is a (non-quantized, real) floating point type.\n",
    "\n",
    "is_integer\n",
    "Returns whether this is a (non-quantized) integer type.\n",
    "\n",
    "is_numpy_compatible\n",
    "\n",
    "is_quantized\n",
    "Returns whether this is a quantized data type.\n",
    "\n",
    "is_unsigned\n",
    "Returns whether this type is unsigned.\n",
    "\n",
    "Non-numeric, unordered, and quantized types are not considered unsigned, and this function returns False.\n",
    "Returns:\n",
    "Whether a DType is unsigned.\n",
    "\n",
    "limits\n",
    "Return intensity limits, i.e. (min, max) tuple, of the dtype.\n",
    "\n",
    "Args:\n",
    "clip_negative: bool, optional If True, clip the negative range (i.e. return 0 for min intensity) even if the image dtype allows negative values. Returns min, max : tuple Lower and upper intensity limits.\n",
    "\n",
    "max\n",
    "Returns the maximum representable value in this data type.\n",
    "\n",
    "Raises:\n",
    "TypeError: if this is a non-numeric, unordered, or quantized type.\n",
    "\n",
    "min\n",
    "Returns the minimum representable value in this data type.\n",
    "\n",
    "Raises:\n",
    "TypeError: if this is a non-numeric, unordered, or quantized type.\n",
    "name\n",
    "\n",
    "Returns the string name for this DType.\n",
    "\n",
    "real_dtype\n",
    "Returns the dtype correspond to this dtype's real part.\n",
    "\n",
    "\n",
    "\n",
    "\n",
    "##### Few examples are seen below:\n",
    "\n"
   ]
  },
  {
   "cell_type": "code",
   "execution_count": 26,
   "metadata": {},
   "outputs": [
    {
     "name": "stdout",
     "output_type": "stream",
     "text": [
      "Enter a number3\n",
      "2\n"
     ]
    }
   ],
   "source": [
    "a = [1,5,4,2]\n",
    "var = int (input(\"Enter a number\"))\n",
    "print(a[var%len(a)])"
   ]
  },
  {
   "cell_type": "code",
   "execution_count": 32,
   "metadata": {},
   "outputs": [
    {
     "name": "stdout",
     "output_type": "stream",
     "text": [
      "2 6\n",
      "7 1\n"
     ]
    }
   ],
   "source": [
    "a = [1,2,6,7]\n",
    "if(len(a)>0):\n",
    "    counter = len(a)//2\n",
    "    #print (counter)\n",
    "    if(counter == 2):\n",
    "        for x in range(len(a)):\n",
    "            res1 = a[x%len(a)] + a[(x+1)%len(a)]\n",
    "            res2 = a[(x+2)%len(a)] + a[(x+3)%len(a)]\n",
    "            if (res1==res2):\n",
    "                 print(a[x%len(a)] , a[(x+1)%len(a)]) "
   ]
  },
  {
   "cell_type": "code",
   "execution_count": null,
   "metadata": {},
   "outputs": [],
   "source": []
  }
 ],
 "metadata": {
  "kernelspec": {
   "display_name": "Python 3",
   "language": "python",
   "name": "python3"
  }
 },
 "nbformat": 4,
 "nbformat_minor": 2
}
